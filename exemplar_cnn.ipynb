{
 "cells": [
  {
   "cell_type": "code",
   "execution_count": 1,
   "metadata": {},
   "outputs": [],
   "source": [
    "import os"
   ]
  },
  {
   "cell_type": "code",
   "execution_count": 2,
   "metadata": {},
   "outputs": [],
   "source": [
    "os.environ['TF_XLA_FLAGS'] = '--tf_xla_enable_xla_devices'\n",
    "os.environ[\"CUDA_DEVICE_ORDER\"]= \"PCI_BUS_ID\"\n",
    "os.environ[\"CUDA_VISIBLE_DEVICES\"]= '1'"
   ]
  },
  {
   "cell_type": "code",
   "execution_count": 3,
   "metadata": {},
   "outputs": [],
   "source": [
    "import torch\n",
    "import torch.nn as nn\n",
    "import torch.optim as optim\n",
    "from torchvision import datasets, transforms"
   ]
  },
  {
   "cell_type": "code",
   "execution_count": 2,
   "metadata": {},
   "outputs": [],
   "source": [
    "# Network architecture\n",
    "class Net(nn.Module):\n",
    "    def __init__(self):\n",
    "        super(Net, self).__init__()\n",
    "        self.conv1 = nn.Conv2d(3, 92, 5)\n",
    "        self.conv2 = nn.Conv2d(92, 256, 5)\n",
    "        self.conv3 = nn.Conv2d(256, 512, 5)\n",
    "        self.fc = nn.Linear(512 * 8 * 8, 1024)\n",
    "\n",
    "    def forward(self, x):\n",
    "        x = F.relu(self.conv1(x))\n",
    "        x = F.max_pool2d(x, 2)\n",
    "        x = F.relu(self.conv2(x))\n",
    "        x = F.max_pool2d(x, 2)\n",
    "        x = F.relu(self.conv3(x))\n",
    "        x = F.max_pool2d(x, 2)\n",
    "        x = x.view(-1, 512 * 8 * 8)\n",
    "        x = self.fc(x)\n",
    "        return x\n"
   ]
  },
  {
   "cell_type": "code",
   "execution_count": 3,
   "metadata": {},
   "outputs": [],
   "source": [
    "# Training procedure\n",
    "def train(model, device, train_loader, optimizer, criterion):\n",
    "    model.train()\n",
    "    for batch_idx, (data, target) in enumerate(train_loader):\n",
    "        data, target = data.to(device), target.to(device)\n",
    "        optimizer.zero_grad()\n",
    "        output = model(data)\n",
    "        loss = criterion(output, target)\n",
    "        loss.backward()\n",
    "        optimizer.step()"
   ]
  },
  {
   "cell_type": "code",
   "execution_count": 4,
   "metadata": {},
   "outputs": [],
   "source": [
    "# Evaluation on STL-10 dataset\n",
    "def evaluate(model, device, test_loader):\n",
    "    model.eval()\n",
    "    test_loss = 0\n",
    "    correct = 0\n",
    "    with torch.no_grad():\n",
    "        for data, target in test_loader:\n",
    "            data, target = data.to(device), target.to(device)\n",
    "            output = model(data)\n",
    "            test_loss += F.cross_entropy(output, target, reduction='sum').item() \n",
    "            pred = output.argmax(dim=1, keepdim=True) \n",
    "            correct += pred.eq(target.view_as(pred)).sum().item()\n",
    "\n",
    "    test_loss /= len(test_loader.dataset)\n",
    "\n",
    "    print('\\nTest set: Average loss: {:.4f}, Accuracy: {}/{} ({:.0f}%)\\n'.format(\n",
    "        test_loss, correct, len(test_loader.dataset),\n",
    "        100. * correct / len(test_loader.dataset)))"
   ]
  },
  {
   "cell_type": "code",
   "execution_count": 4,
   "metadata": {},
   "outputs": [
    {
     "ename": "NameError",
     "evalue": "name 'unlabeled_dataset' is not defined",
     "output_type": "error",
     "traceback": [
      "\u001b[0;31m---------------------------------------------------------------------------\u001b[0m",
      "\u001b[0;31mNameError\u001b[0m                                 Traceback (most recent call last)",
      "Cell \u001b[0;32mIn[4], line 1\u001b[0m\n\u001b[0;32m----> 1\u001b[0m total_unlabeled_images \u001b[38;5;241m=\u001b[39m \u001b[38;5;28mlen\u001b[39m(\u001b[43munlabeled_dataset\u001b[49m)\n\u001b[1;32m      2\u001b[0m \u001b[38;5;28mprint\u001b[39m(\u001b[38;5;124m\"\u001b[39m\u001b[38;5;124mTotal number of unlabeled images:\u001b[39m\u001b[38;5;124m\"\u001b[39m, total_unlabeled_images)\n",
      "\u001b[0;31mNameError\u001b[0m: name 'unlabeled_dataset' is not defined"
     ]
    }
   ],
   "source": [
    "total_unlabeled_images = len(unlabeled_dataset)\n",
    "print(\"Total number of unlabeled images:\", total_unlabeled_images)\n"
   ]
  },
  {
   "cell_type": "code",
   "execution_count": 19,
   "metadata": {},
   "outputs": [
    {
     "name": "stdout",
     "output_type": "stream",
     "text": [
      "Total number of labeled images: 13000\n"
     ]
    }
   ],
   "source": [
    "\n",
    "\n",
    "# Load the STL-10 labeled training dataset\n",
    "train_dataset = datasets.STL10(root='data', split='train', download=False)\n",
    "\n",
    "# Load the STL-10 labeled test dataset\n",
    "test_dataset = datasets.STL10(root='data', split='test', download=False)\n",
    "\n",
    "# Calculate the total number of labeled images\n",
    "total_labeled_images = len(train_dataset) + len(test_dataset)\n",
    "\n",
    "print(\"Total number of labeled images:\", total_labeled_images)\n"
   ]
  },
  {
   "cell_type": "code",
   "execution_count": 5,
   "metadata": {},
   "outputs": [
    {
     "name": "stdout",
     "output_type": "stream",
     "text": [
      "Batch 0: Data shape: torch.Size([64, 3, 96, 96])\n",
      "Batch 1: Data shape: torch.Size([64, 3, 96, 96])\n",
      "Batch 2: Data shape: torch.Size([64, 3, 96, 96])\n",
      "Batch 3: Data shape: torch.Size([64, 3, 96, 96])\n",
      "Batch 4: Data shape: torch.Size([64, 3, 96, 96])\n",
      "Batch 5: Data shape: torch.Size([64, 3, 96, 96])\n",
      "Batch 6: Data shape: torch.Size([64, 3, 96, 96])\n",
      "Batch 7: Data shape: torch.Size([64, 3, 96, 96])\n",
      "Batch 8: Data shape: torch.Size([64, 3, 96, 96])\n",
      "Batch 9: Data shape: torch.Size([64, 3, 96, 96])\n",
      "Batch 10: Data shape: torch.Size([64, 3, 96, 96])\n",
      "Batch 11: Data shape: torch.Size([64, 3, 96, 96])\n",
      "Batch 12: Data shape: torch.Size([64, 3, 96, 96])\n",
      "Batch 13: Data shape: torch.Size([64, 3, 96, 96])\n",
      "Batch 14: Data shape: torch.Size([64, 3, 96, 96])\n",
      "Batch 15: Data shape: torch.Size([40, 3, 96, 96])\n"
     ]
    }
   ],
   "source": [
    "import torch\n",
    "from torchvision import datasets\n",
    "from torchvision import transforms\n",
    "\n",
    "# Define the transform to apply to the data\n",
    "transform = transforms.Compose([\n",
    "    transforms.ToTensor(),\n",
    "    transforms.Normalize((0.5, 0.5, 0.5), (0.5, 0.5, 0.5)),\n",
    "])\n",
    "\n",
    "# Load the STL-10 dataset\n",
    "unlabeled_dataset = datasets.STL10(root='data', split='unlabeled', download=False, transform=transform)\n",
    "\n",
    "# Select only 1000 images from the unlabeled dataset\n",
    "subset_size = 1000\n",
    "unlabeled_subset = torch.utils.data.Subset(unlabeled_dataset, range(subset_size))\n",
    "\n",
    "# Create a data loader for the unlabeled subset\n",
    "batch_size = 64\n",
    "unlabeled_loader = torch.utils.data.DataLoader(unlabeled_subset, batch_size=batch_size, shuffle=True)\n",
    "\n",
    "# Accessing the data in batches\n",
    "for batch_idx, (data, _) in enumerate(unlabeled_loader):\n",
    "    # Process the data as needed\n",
    "    print(f\"Batch {batch_idx}: Data shape: {data.shape}\")\n"
   ]
  },
  {
   "cell_type": "code",
   "execution_count": 21,
   "metadata": {},
   "outputs": [
    {
     "ename": "NameError",
     "evalue": "name 'patch_gradients' is not defined",
     "output_type": "error",
     "traceback": [
      "\u001b[0;31m---------------------------------------------------------------------------\u001b[0m",
      "\u001b[0;31mNameError\u001b[0m                                 Traceback (most recent call last)",
      "Cell \u001b[0;32mIn[21], line 47\u001b[0m\n\u001b[1;32m     44\u001b[0m \u001b[38;5;28;01mfor\u001b[39;00m batch_idx, (data, _) \u001b[38;5;129;01min\u001b[39;00m \u001b[38;5;28menumerate\u001b[39m(unlabeled_loader):\n\u001b[1;32m     45\u001b[0m     \u001b[38;5;66;03m# Extract one patch from each image in the batch\u001b[39;00m\n\u001b[1;32m     46\u001b[0m     \u001b[38;5;28;01mfor\u001b[39;00m i \u001b[38;5;129;01min\u001b[39;00m \u001b[38;5;28mrange\u001b[39m(data\u001b[38;5;241m.\u001b[39msize(\u001b[38;5;241m0\u001b[39m)):\n\u001b[0;32m---> 47\u001b[0m         mean_squared_gradients \u001b[38;5;241m=\u001b[39m (\u001b[43mpatch_gradients\u001b[49m\u001b[38;5;241m*\u001b[39m\u001b[38;5;241m*\u001b[39m\u001b[38;5;241m2\u001b[39m)\u001b[38;5;241m.\u001b[39mmean(dim\u001b[38;5;241m=\u001b[39m\u001b[38;5;241m1\u001b[39m)\n\u001b[1;32m     48\u001b[0m         patch_probabilities \u001b[38;5;241m=\u001b[39m mean_squared_gradients \u001b[38;5;241m/\u001b[39m mean_squared_gradients\u001b[38;5;241m.\u001b[39msum()\n\u001b[1;32m     49\u001b[0m         sampled_patch_indices \u001b[38;5;241m=\u001b[39m torch\u001b[38;5;241m.\u001b[39mmultinomial(patch_probabilities, num_patches)\n",
      "\u001b[0;31mNameError\u001b[0m: name 'patch_gradients' is not defined"
     ]
    }
   ],
   "source": [
    "import torch\n",
    "import torch.nn.functional as F\n",
    "\n",
    "def compute_gradient_magnitude(image):\n",
    "    # Convert image to grayscale (assuming it's in RGB format)\n",
    "    grayscale_image = 0.299 * image[:, 0, :, :] + 0.587 * image[:, 1, :, :] + 0.114 * image[:, 2, :, :]\n",
    "    \n",
    "    # Convert grayscale image and kernel to the same type\n",
    "    grayscale_image = grayscale_image.float()\n",
    "    sobel_kernel = torch.FloatTensor([[1, 0, -1], [2, 0, -2], [1, 0, -1]]).unsqueeze(0).unsqueeze(0)\n",
    "    \n",
    "    # Compute gradients using Sobel filter\n",
    "    gradient_x = F.conv2d(grayscale_image.unsqueeze(0), sobel_kernel, stride=1, padding=1)\n",
    "    gradient_y = F.conv2d(grayscale_image.unsqueeze(0), sobel_kernel.transpose(2, 3), stride=1, padding=1)\n",
    "    \n",
    "    # Compute gradient magnitude\n",
    "    gradient_magnitude = torch.sqrt(gradient_x**2 + gradient_y**2)\n",
    "    \n",
    "    return gradient_magnitude.squeeze()\n",
    "\n",
    "def extract_single_patch_with_gradient(image, patch_size):\n",
    "    # Compute gradient magnitude for the current image\n",
    "    gradient_magnitude = compute_gradient_magnitude(image.unsqueeze(0))\n",
    "    \n",
    "    # Compute mean squared gradient magnitude within each patch\n",
    "    patches = F.unfold(image.unsqueeze(0), kernel_size=patch_size, stride=patch_size)\n",
    "    patch_gradients = F.unfold(gradient_magnitude.unsqueeze(0), kernel_size=patch_size, stride=patch_size)\n",
    "    mean_squared_gradients = (patch_gradients**2).mean(dim=1)\n",
    "    \n",
    "    # Compute probabilities proportional to the mean squared gradient magnitude\n",
    "    patch_probabilities = mean_squared_gradients / mean_squared_gradients.sum()\n",
    "    \n",
    "    # Ensure the number of patches to sample does not exceed the available patches\n",
    "    num_patches = min(patches.shape[2], 1)  # Sample one patch\n",
    "    # Sample one patch based on probabilities\n",
    "    sampled_patch_indices = torch.multinomial(patch_probabilities, num_patches)\n",
    "    \n",
    "    # Extract the sampled patch\n",
    "    sampled_patch = patches[:, :, sampled_patch_indices]\n",
    "    \n",
    "    return sampled_patch.squeeze()\n",
    "\n",
    "# Extract one patch from each image in the batch\n",
    "for batch_idx, (data, _) in enumerate(unlabeled_loader):\n",
    "    # Extract one patch from each image in the batch\n",
    "    for i in range(data.size(0)):\n",
    "        mean_squared_gradients = (patch_gradients**2).mean(dim=1)\n",
    "        patch_probabilities = mean_squared_gradients / mean_squared_gradients.sum()\n",
    "        sampled_patch_indices = torch.multinomial(patch_probabilities, num_patches)\n",
    "        sampled_patch_indices = sampled_patch_indices.squeeze()  # Reshape to one-dimensional tensor\n",
    "        sampled_patch = patches[:, :, sampled_patch_indices]\n",
    "        print(f\"Batch {batch_idx}, Image {i}: Sampled patch shape: {sampled_patch.shape}\")\n",
    "\n",
    "\n"
   ]
  },
  {
   "cell_type": "code",
   "execution_count": 17,
   "metadata": {},
   "outputs": [
    {
     "data": {
      "image/png": "[encoded data removed]",
      "text/plain": [
       "<Figure size 640x480 with 1 Axes>"
      ]
     },
     "metadata": {},
     "output_type": "display_data"
    }
   ],
   "source": [
    "import matplotlib.pyplot as plt\n",
    "\n",
    "# Access one batch of data from the DataLoader\n",
    "for batch_idx, (data, _) in enumerate(unlabeled_loader):\n",
    "    # Select the first image from the batch\n",
    "    image = data[0]  # Assuming batch size is greater than 0\n",
    "    # Convert the tensor to a numpy array and transpose it to the correct shape\n",
    "    image_np = image.permute(1, 2, 0).numpy()\n",
    "    # Denormalize the image (reverse normalization)\n",
    "    image_np = 0.5 * image_np + 0.5\n",
    "    # Display the image\n",
    "    plt.imshow(image_np)\n",
    "    plt.axis('off')\n",
    "    plt.show()\n",
    "    break  # Break the loop after displaying one image\n"
   ]
  },
  {
   "cell_type": "code",
   "execution_count": 9,
   "metadata": {},
   "outputs": [
    {
     "name": "stdout",
     "output_type": "stream",
     "text": [
      "Downloading http://ai.stanford.edu/~acoates/stl10/stl10_binary.tar.gz to data/stl10_binary.tar.gz\n"
     ]
    },
    {
     "data": {
      "application/vnd.jupyter.widget-view+json": {
       "model_id": "ebb029a65f9745fc978699e44e88f15e",
       "version_major": 2,
       "version_minor": 0
      },
      "text/plain": [
       "  0%|          | 0/2640397119 [00:00<?, ?it/s]"
      ]
     },
     "metadata": {},
     "output_type": "display_data"
    },
    {
     "name": "stdout",
     "output_type": "stream",
     "text": [
      "Extracting data/stl10_binary.tar.gz to data\n",
      "Files already downloaded and verified\n"
     ]
    },
    {
     "ename": "AttributeError",
     "evalue": "'STL10' object has no attribute 'targets'",
     "output_type": "error",
     "traceback": [
      "\u001b[0;31m---------------------------------------------------------------------------\u001b[0m",
      "\u001b[0;31mAttributeError\u001b[0m                            Traceback (most recent call last)",
      "Cell \u001b[0;32mIn[9], line 19\u001b[0m\n\u001b[1;32m     17\u001b[0m \u001b[38;5;66;03m# Create a subset of 1000 images\u001b[39;00m\n\u001b[1;32m     18\u001b[0m train_dataset\u001b[38;5;241m.\u001b[39mdata \u001b[38;5;241m=\u001b[39m train_dataset\u001b[38;5;241m.\u001b[39mdata[:subset_size]\n\u001b[0;32m---> 19\u001b[0m train_dataset\u001b[38;5;241m.\u001b[39mtargets \u001b[38;5;241m=\u001b[39m \u001b[43mtrain_dataset\u001b[49m\u001b[38;5;241;43m.\u001b[39;49m\u001b[43mtargets\u001b[49m[:subset_size]\n\u001b[1;32m     21\u001b[0m \u001b[38;5;66;03m# Split the subset into training and testing sets\u001b[39;00m\n\u001b[1;32m     22\u001b[0m train_subset, test_subset \u001b[38;5;241m=\u001b[39m torch\u001b[38;5;241m.\u001b[39mutils\u001b[38;5;241m.\u001b[39mdata\u001b[38;5;241m.\u001b[39mrandom_split(train_dataset, [train_size, test_size])\n",
      "\u001b[0;31mAttributeError\u001b[0m: 'STL10' object has no attribute 'targets'"
     ]
    }
   ],
   "source": [
    "# Data loading\n",
    "transform = transforms.Compose([\n",
    "    transforms.RandomHorizontalFlip(),\n",
    "    transforms.RandomCrop(96, padding=4),\n",
    "    transforms.ToTensor(),\n",
    "    transforms.Normalize((0.5, 0.5, 0.5), (0.5, 0.5, 0.5)),\n",
    "])\n",
    "\n",
    "# Data loading with a subset of 1000 images\n",
    "subset_size = 1000\n",
    "train_size = int(0.8 * subset_size)\n",
    "test_size = subset_size - train_size\n",
    "\n",
    "train_dataset = datasets.STL10(root='data', split='train', download=True, transform=transform, target_transform=None)\n",
    "test_dataset = datasets.STL10(root='data', split='test', download=True, transform=transform, target_transform=None)\n",
    "\n",
    "# Create a subset of 1000 images\n",
    "train_dataset.data = train_dataset.data[:subset_size]\n",
    "train_dataset.targets = train_dataset.targets[:subset_size]\n",
    "\n",
    "# Split the subset into training and testing sets\n",
    "train_subset, test_subset = torch.utils.data.random_split(train_dataset, [train_size, test_size])\n",
    "\n",
    "# Data loaders for the subset\n",
    "train_loader = torch.utils.data.DataLoader(train_subset, batch_size=64, shuffle=True)\n",
    "test_loader = torch.utils.data.DataLoader(test_subset, batch_size=64, shuffle=False)\n"
   ]
  },
  {
   "cell_type": "code",
   "execution_count": null,
   "metadata": {},
   "outputs": [],
   "source": [
    "# Training\n",
    "model = Net().to(device)\n",
    "optimizer = optim.SGD(model.parameters(), lr=0.001, momentum=0.9)\n",
    "criterion = nn.CrossEntropyLoss()\n",
    "\n",
    "for epoch in range(1, 11):\n",
    "    train(model, device, train_loader, optimizer, criterion)\n",
    "    evaluate(model, device, test_loader)\n"
   ]
  }
 ],
 "metadata": {
  "kernelspec": {
   "display_name": "to19",
   "language": "python",
   "name": "python3"
  },
  "language_info": {
   "codemirror_mode": {
    "name": "ipython",
    "version": 3
   },
   "file_extension": ".py",
   "mimetype": "text/x-python",
   "name": "python",
   "nbconvert_exporter": "python",
   "pygments_lexer": "ipython3",
   "version": "3.9.18"
  }
 },
 "nbformat": 4,
 "nbformat_minor": 2
}
